{
 "cells": [
  {
   "cell_type": "code",
   "execution_count": 1,
   "metadata": {},
   "outputs": [],
   "source": [
    "# Importing libraries # \n",
    "import torch\n",
    "import torch.nn as nn\n",
    "import torch.nn.functional as F\n",
    "import torch.optim as optim\n",
    "\n",
    "import pandas as pd \n",
    "import numpy as np \n",
    "import seaborn as sns\n",
    "import matplotlib.pyplot as plt\n",
    "from tqdm.notebook import tqdm\n",
    "from nltk.corpus import stopwords \n",
    "STOPWORDS = set(stopwords.words('english'))\n",
    "%matplotlib inline\n",
    "\n",
    "\n",
    "from torchnlp.encoders.text import  pad_tensor\n",
    "from sklearn.model_selection import train_test_split\n",
    "\n"
   ]
  },
  {
   "cell_type": "code",
   "execution_count": 2,
   "metadata": {},
   "outputs": [
    {
     "data": {
      "text/html": [
       "<div>\n",
       "<style scoped>\n",
       "    .dataframe tbody tr th:only-of-type {\n",
       "        vertical-align: middle;\n",
       "    }\n",
       "\n",
       "    .dataframe tbody tr th {\n",
       "        vertical-align: top;\n",
       "    }\n",
       "\n",
       "    .dataframe thead th {\n",
       "        text-align: right;\n",
       "    }\n",
       "</style>\n",
       "<table border=\"1\" class=\"dataframe\">\n",
       "  <thead>\n",
       "    <tr style=\"text-align: right;\">\n",
       "      <th></th>\n",
       "      <th>labels</th>\n",
       "      <th>text</th>\n",
       "    </tr>\n",
       "  </thead>\n",
       "  <tbody>\n",
       "    <tr>\n",
       "      <th>0</th>\n",
       "      <td>positive</td>\n",
       "      <td>i have bought several of the vitality canned d...</td>\n",
       "    </tr>\n",
       "    <tr>\n",
       "      <th>1</th>\n",
       "      <td>negative</td>\n",
       "      <td>product arrived labeled as jumbo salted peanut...</td>\n",
       "    </tr>\n",
       "    <tr>\n",
       "      <th>2</th>\n",
       "      <td>negative</td>\n",
       "      <td>this is a confection that has been around a fe...</td>\n",
       "    </tr>\n",
       "    <tr>\n",
       "      <th>3</th>\n",
       "      <td>negative</td>\n",
       "      <td>if you are looking for the secret ingredient i...</td>\n",
       "    </tr>\n",
       "    <tr>\n",
       "      <th>4</th>\n",
       "      <td>positive</td>\n",
       "      <td>great taffy at a great price there was a wide ...</td>\n",
       "    </tr>\n",
       "  </tbody>\n",
       "</table>\n",
       "</div>"
      ],
      "text/plain": [
       "     labels                                               text\n",
       "0  positive  i have bought several of the vitality canned d...\n",
       "1  negative  product arrived labeled as jumbo salted peanut...\n",
       "2  negative  this is a confection that has been around a fe...\n",
       "3  negative  if you are looking for the secret ingredient i...\n",
       "4  positive  great taffy at a great price there was a wide ..."
      ]
     },
     "execution_count": 2,
     "metadata": {},
     "output_type": "execute_result"
    }
   ],
   "source": [
    "# Read dataset \n",
    "df = pd.read_feather('SentimenAnalysis.ftr')\n",
    "df.head()"
   ]
  },
  {
   "cell_type": "code",
   "execution_count": 3,
   "metadata": {},
   "outputs": [],
   "source": [
    "# Cleaning the dataset\n",
    "import re \n",
    "def preprocess_string(s):\n",
    "    # Remove all non-word characters (everything except numbers and letters)\n",
    "    s = re.sub(r\"[^\\w\\s]\", '', s)\n",
    "    # Replace all runs of whitespaces with no space\n",
    "    s = re.sub(r\"\\s+\", ' ', s)\n",
    "    # replace digits with no space\n",
    "    s = re.sub(r\"\\d\", '', s)\n",
    "\n",
    "    return s\n",
    "\n",
    "def remove_stopwords(text):\n",
    "    return ' '.join([word for word in text.split() if word not in STOPWORDS])\n",
    "\n",
    "df['text'] = [preprocess_string(text) for text in df['text'].values]\n",
    "# df['text'] = [remove_stopwords(text) for text in df['text'].values]\n"
   ]
  },
  {
   "cell_type": "code",
   "execution_count": 4,
   "metadata": {},
   "outputs": [],
   "source": [
    "# get encoded representation \n",
    "# Simple word to id mapping \n",
    "from torchnlp.encoders.text import StaticTokenizerEncoder, pad_tensor\n",
    "\n",
    "text_list = df['text'].values\n",
    "encoder = StaticTokenizerEncoder(text_list, tokenize=lambda s: s.split())\n",
    "encoded_data = [encoder.encode(example) for example in text_list]\n"
   ]
  },
  {
   "cell_type": "code",
   "execution_count": 5,
   "metadata": {},
   "outputs": [
    {
     "name": "stdout",
     "output_type": "stream",
     "text": [
      "Max length : 156.0 \n"
     ]
    },
    {
     "data": {
      "image/png": "[encoded data removed]",
      "text/plain": [
       "<Figure size 432x288 with 1 Axes>"
      ]
     },
     "metadata": {
      "needs_background": "light"
     },
     "output_type": "display_data"
    }
   ],
   "source": [
    "# find max length of dataset \n",
    "lengths = [len(i) for i in encoded_data]\n",
    "length_as_series = pd.Series(lengths)\n",
    "plt.title(\"Probability Density Function for text lengths\")\n",
    "sns.histplot(length_as_series)\n",
    "\n",
    "max_pad_length = length_as_series.quantile(0.9)\n",
    "print(f'Max length : {max_pad_length} ')"
   ]
  },
  {
   "cell_type": "code",
   "execution_count": 6,
   "metadata": {},
   "outputs": [
    {
     "data": {
      "application/vnd.jupyter.widget-view+json": {
       "model_id": "fcd65b8e3a9b4ea8996ffeb7a9d71b40",
       "version_major": 2,
       "version_minor": 0
      },
      "text/plain": [
       "Padding the dataset :   0%|          | 0/89983 [00:00<?, ?it/s]"
      ]
     },
     "metadata": {},
     "output_type": "display_data"
    }
   ],
   "source": [
    "# discard the long inputs \n",
    "reviews = []\n",
    "ylabel = []\n",
    "for i in range(len(encoded_data)):\n",
    "    if len(encoded_data[i]) < max_pad_length:\n",
    "        reviews.append(encoded_data[i])\n",
    "        ylabel.append(df['labels'][i])\n",
    "\n",
    "from sklearn.preprocessing import LabelEncoder\n",
    "# encode the labels \n",
    "lb = LabelEncoder()\n",
    "labels = lb.fit_transform(ylabel)\n",
    "        \n",
    "\n",
    "# pad the dataset \n",
    "padded_dataset = []\n",
    "for i in tqdm(range(len(reviews)), desc=\"Padding the dataset : \"):\n",
    "    padded_dataset.append(pad_tensor(reviews[i], int(max_pad_length)))\n"
   ]
  },
  {
   "cell_type": "code",
   "execution_count": 7,
   "metadata": {},
   "outputs": [
    {
     "name": "stderr",
     "output_type": "stream",
     "text": [
      "C:\\Users\\RJNGh\\AppData\\Local\\Temp\\ipykernel_13608\\2972527356.py:13: UserWarning: To copy construct from a tensor, it is recommended to use sourceTensor.clone().detach() or sourceTensor.clone().detach().requires_grad_(True), rather than torch.tensor(sourceTensor).\n",
      "  X_train, y_train = torch.tensor(X_train), torch.tensor(y_train)\n",
      "C:\\Users\\RJNGh\\AppData\\Local\\Temp\\ipykernel_13608\\2972527356.py:14: UserWarning: To copy construct from a tensor, it is recommended to use sourceTensor.clone().detach() or sourceTensor.clone().detach().requires_grad_(True), rather than torch.tensor(sourceTensor).\n",
      "  X_test, y_test = torch.tensor(X_test), torch.tensor(y_test)\n"
     ]
    }
   ],
   "source": [
    "#preparing the final dataset:\n",
    "X = torch.stack(padded_dataset)\n",
    "y = torch.tensor(labels)\n",
    "\n",
    "from sklearn.model_selection import train_test_split\n",
    "\n",
    "X_train, X_test, y_train, y_test = train_test_split(X,\n",
    "                                                    y,\n",
    "                                                    test_size=.25,\n",
    "                                                    random_state=42)\n",
    "\n",
    "\n",
    "X_train, y_train = torch.tensor(X_train), torch.tensor(y_train)\n",
    "X_test, y_test = torch.tensor(X_test), torch.tensor(y_test)\n"
   ]
  },
  {
   "cell_type": "code",
   "execution_count": 8,
   "metadata": {},
   "outputs": [],
   "source": [
    "from lstm import CustomLSTM"
   ]
  },
  {
   "cell_type": "code",
   "execution_count": 9,
   "metadata": {},
   "outputs": [],
   "source": [
    "class Net(nn.Module):\n",
    "    def __init__(self):\n",
    "        super().__init__()\n",
    "        self.embedding = nn.Embedding(len(encoder.vocab)+1, 32)\n",
    "        self.lstm = CustomLSTM(32,32)#nn.LSTM(32, 32, batch_first=True)\n",
    "\n",
    "        self.fc1 = nn.Linear(32, 2)\n",
    "        \n",
    "    def forward(self, x):\n",
    "        x_ = self.embedding(x)\n",
    "        x_, (h_n, c_n) = self.lstm(x_)\n",
    "        x_ = (x_[:, -1, :])\n",
    "        x_ = self.fc1(x_)\n",
    "        return x_"
   ]
  },
  {
   "cell_type": "code",
   "execution_count": 10,
   "metadata": {},
   "outputs": [],
   "source": [
    "ds_train = torch.utils.data.TensorDataset(X_train, y_train)\n",
    "train_loader = torch.utils.data.DataLoader(ds_train, batch_size=128, shuffle=True)\n",
    "\n",
    "ds_test = torch.utils.data.TensorDataset(X_test, y_test)\n",
    "test_loader = torch.utils.data.DataLoader(ds_test, batch_size=256, shuffle=True)"
   ]
  },
  {
   "cell_type": "code",
   "execution_count": 11,
   "metadata": {},
   "outputs": [],
   "source": [
    "CUDA  = torch.cuda.is_available()\n",
    "classifier = Net()\n",
    "if CUDA:\n",
    "    classifier = classifier.cuda()\n",
    "\n",
    "optimizer = optim.Adam(classifier.parameters(), lr=0.005)\n",
    "criterion = nn.CrossEntropyLoss()"
   ]
  },
  {
   "cell_type": "code",
   "execution_count": 12,
   "metadata": {},
   "outputs": [
    {
     "data": {
      "application/vnd.jupyter.widget-view+json": {
       "model_id": "6dce45e22de144caab7d92b213cde6f3",
       "version_major": 2,
       "version_minor": 0
      },
      "text/plain": [
       "  0%|          | 0/5 [00:00<?, ?it/s]"
      ]
     },
     "metadata": {},
     "output_type": "display_data"
    },
    {
     "data": {
      "application/vnd.jupyter.widget-view+json": {
       "model_id": "d811ecd8e570496e8ea5d4b8fa7f1765",
       "version_major": 2,
       "version_minor": 0
      },
      "text/plain": [
       "Epoch: 1/5:   0%|          | 0/528 [00:00<?, ?it/s]"
      ]
     },
     "metadata": {},
     "output_type": "display_data"
    },
    {
     "data": {
      "application/vnd.jupyter.widget-view+json": {
       "model_id": "2003df5569a8483e9ae7a17b98a81383",
       "version_major": 2,
       "version_minor": 0
      },
      "text/plain": [
       "Epoch: 2/5:   0%|          | 0/528 [00:00<?, ?it/s]"
      ]
     },
     "metadata": {},
     "output_type": "display_data"
    },
    {
     "data": {
      "application/vnd.jupyter.widget-view+json": {
       "model_id": "fd9d864fff0847ef835c17bae80e2d2d",
       "version_major": 2,
       "version_minor": 0
      },
      "text/plain": [
       "Epoch: 3/5:   0%|          | 0/528 [00:00<?, ?it/s]"
      ]
     },
     "metadata": {},
     "output_type": "display_data"
    },
    {
     "data": {
      "application/vnd.jupyter.widget-view+json": {
       "model_id": "b3a3296dac5f4e5fa2357ebf72ff785d",
       "version_major": 2,
       "version_minor": 0
      },
      "text/plain": [
       "Epoch: 4/5:   0%|          | 0/528 [00:00<?, ?it/s]"
      ]
     },
     "metadata": {},
     "output_type": "display_data"
    },
    {
     "data": {
      "application/vnd.jupyter.widget-view+json": {
       "model_id": "5567ed07d26a4aafaad47c5f23ed95d0",
       "version_major": 2,
       "version_minor": 0
      },
      "text/plain": [
       "Epoch: 5/5:   0%|          | 0/528 [00:00<?, ?it/s]"
      ]
     },
     "metadata": {},
     "output_type": "display_data"
    }
   ],
   "source": [
    "\n",
    "epohcs = 5\n",
    "train_loss = []\n",
    "test_loss = []\n",
    "train_accuracy = []\n",
    "test_accuracy = []\n",
    "\n",
    "\n",
    "epoch_bar = tqdm(\n",
    "    range(epohcs))\n",
    "for epoch in epoch_bar:\n",
    "\n",
    "    #################################################################### Training ######################################\n",
    "    correct = 0\n",
    "    iterations = 0 \n",
    "    iter_loss = 0.0 \n",
    "\n",
    "    batch_bar  = tqdm(\n",
    "    enumerate(train_loader),\n",
    "    desc=\"Epoch: {}/{}\".format(str(epoch + 1),str(epohcs)),\n",
    "    total=len(train_loader))\n",
    "\n",
    "    for i , (datapoints, labels) in batch_bar:\n",
    "        if CUDA:\n",
    "            datapoints = datapoints.cuda()\n",
    "            labels     = labels.cuda()\n",
    "\n",
    "        # Forward prop\n",
    "        preds = classifier(datapoints)\n",
    "        loss = criterion(preds, labels)\n",
    "        iter_loss += loss.item()\n",
    "\n",
    "        # Backprop \n",
    "        optimizer.zero_grad()\n",
    "        loss.backward()\n",
    "        optimizer.step()\n",
    "\n",
    "        _ , predicted = torch.max(preds , 1 )\n",
    "        correct += (predicted == labels).sum().item()\n",
    "        iterations += 1\n",
    "\n",
    "        batch_bar.set_postfix(loss=iter_loss / iterations,\n",
    "                        accuracy=\"{:.2f}\".format(correct / len(X_train)))\n",
    "        batch_bar.update()\n",
    "         \n",
    "\n",
    "    train_accuracy.append(100 * correct / len(X_train))\n",
    "    train_loss.append(iter_loss / iterations)\n",
    "    ########################################### Testing ###################################################\n",
    "    iter_loss = 0.0 \n",
    "    correct = 0\n",
    "    iterations = 0 \n",
    "\n",
    "    classifier.eval() \n",
    "\n",
    "    for i , (inputs, labels) in enumerate(test_loader):\n",
    "\n",
    "        if CUDA:\n",
    "            inputs = inputs.cuda()\n",
    "            labels = labels.cuda()\n",
    "\n",
    "        outputs =  classifier(inputs)\n",
    "        loss = criterion(outputs, labels)\n",
    "        iter_loss += loss.item()\n",
    "        _ , predicted = torch.max(outputs , 1 )\n",
    "        correct += (predicted == labels).sum().item()\n",
    "        iterations += 1 \n",
    "    \n",
    "    test_loss.append(iter_loss/ iterations)\n",
    "    test_accuracy.append(100 * correct / len(X_test))\n",
    "\n",
    "\n",
    "\n",
    "\n",
    "    epoch_bar.set_postfix( Training_loss=train_loss[-1],\n",
    "                        Training_accuracy=\"{:.2f}\".format(train_accuracy[-1]) , Testing_loss = test_loss[-1], Test_accuracy =\"{:.2f}\".format(test_accuracy[-1]) )\n",
    "    epoch_bar.update()\n"
   ]
  },
  {
   "cell_type": "code",
   "execution_count": 15,
   "metadata": {},
   "outputs": [
    {
     "data": {
      "image/png": "[encoded data removed]",
      "text/plain": [
       "<Figure size 1152x720 with 1 Axes>"
      ]
     },
     "metadata": {
      "needs_background": "light"
     },
     "output_type": "display_data"
    },
    {
     "data": {
      "image/png": "[encoded data removed]",
      "text/plain": [
       "<Figure size 1152x720 with 1 Axes>"
      ]
     },
     "metadata": {
      "needs_background": "light"
     },
     "output_type": "display_data"
    }
   ],
   "source": [
    "# Loss\n",
    "import matplotlib.pyplot as plt \n",
    "f = plt.figure(figsize=(16, 10))\n",
    "plt.plot(train_loss, label='Training Loss')\n",
    "plt.plot(test_loss, label='Testing Loss')\n",
    "plt.legend()\n",
    "plt.show()\n",
    "\n",
    "# Accuracy\n",
    "f = plt.figure(figsize=(16, 10))\n",
    "plt.plot(train_accuracy, label='Training Accuracy')\n",
    "plt.plot(test_accuracy, label='Testing Accuracy')\n",
    "plt.legend()\n",
    "plt.show()"
   ]
  },
  {
   "cell_type": "code",
   "execution_count": null,
   "metadata": {},
   "outputs": [],
   "source": []
  }
 ],
 "metadata": {
  "kernelspec": {
   "display_name": "Python 3.10.5 ('pytorch_env')",
   "language": "python",
   "name": "python3"
  },
  "language_info": {
   "codemirror_mode": {
    "name": "ipython",
    "version": 3
   },
   "file_extension": ".py",
   "mimetype": "text/x-python",
   "name": "python",
   "nbconvert_exporter": "python",
   "pygments_lexer": "ipython3",
   "version": "3.10.5"
  },
  "orig_nbformat": 4,
  "vscode": {
   "interpreter": {
    "hash": "ef2f41e41ec64fa801982dc3fb390aad0e3e9031db957485c041e5ec7c986873"
   }
  }
 },
 "nbformat": 4,
 "nbformat_minor": 2
}
